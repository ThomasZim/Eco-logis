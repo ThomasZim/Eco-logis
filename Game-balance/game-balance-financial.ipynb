{
 "cells": [
  {
   "cell_type": "code",
   "execution_count": null,
   "metadata": {},
   "outputs": [],
   "source": [
    "import numpy as np\n",
    "import matplotlib.pyplot as plt\n",
    "import ipywidgets as widgets\n",
    "from IPython.display import display, clear_output\n",
    "\n",
    "# Define the time range\n",
    "hours = np.arange(6*60, 23*60+1) / 60.0"
   ]
  },
  {
   "cell_type": "markdown",
   "metadata": {},
   "source": [
    "### Sunny day scenario"
   ]
  },
  {
   "cell_type": "code",
   "execution_count": null,
   "metadata": {},
   "outputs": [],
   "source": [
    "# Define events as dictionaries with hour as key and value for financial events\n",
    "# You may want to add widgets to control these values later if needed\n",
    "capitale_events = {}\n",
    "revenu_events = {}\n",
    "depense_events = {}"
   ]
  },
  {
   "cell_type": "markdown",
   "metadata": {},
   "source": [
    "## Base Case Scenario"
   ]
  },
  {
   "cell_type": "code",
   "execution_count": null,
   "metadata": {},
   "outputs": [],
   "source": [
    "# Define events as dictionaries with hour as key and value for financial events\n",
    "# You may want to add widgets to control these values later if needed\n",
    "capitale_events = {}\n",
    "revenu_events = {}\n",
    "depense_events = {}"
   ]
  },
  {
   "cell_type": "markdown",
   "metadata": {},
   "source": [
    "## Bear Case Scenario"
   ]
  },
  {
   "cell_type": "code",
   "execution_count": null,
   "metadata": {},
   "outputs": [],
   "source": [
    "# Define events as dictionaries with hour as key and value for financial events\n",
    "# You may want to add widgets to control these values later if needed\n",
    "capitale_events = {}\n",
    "revenu_events = {}\n",
    "depense_events = {}"
   ]
  },
  {
   "cell_type": "code",
   "execution_count": null,
   "metadata": {},
   "outputs": [
    {
     "data": {
      "application/vnd.jupyter.widget-view+json": {
       "model_id": "db19246ea7cb47b7a32f534d7924c5cc",
       "version_major": 2,
       "version_minor": 0
      },
      "text/plain": [
       "FloatSlider(value=0.0, description='Capitale Rate:', min=-100.0, step=1.0)"
      ]
     },
     "metadata": {},
     "output_type": "display_data"
    },
    {
     "data": {
      "application/vnd.jupyter.widget-view+json": {
       "model_id": "0e7ce8d5ee16451ea6e97d1caaf6d791",
       "version_major": 2,
       "version_minor": 0
      },
      "text/plain": [
       "FloatSlider(value=0.0, description='Revenu Rate:', min=-100.0, step=1.0)"
      ]
     },
     "metadata": {},
     "output_type": "display_data"
    },
    {
     "data": {
      "application/vnd.jupyter.widget-view+json": {
       "model_id": "95bb04568e23439195f46b2dcdb37814",
       "version_major": 2,
       "version_minor": 0
      },
      "text/plain": [
       "FloatSlider(value=0.0, description='Dépense Rate:', min=-100.0, step=1.0)"
      ]
     },
     "metadata": {},
     "output_type": "display_data"
    },
    {
     "data": {
      "application/vnd.jupyter.widget-view+json": {
       "model_id": "3544754be0774014b0304dada446e1c6",
       "version_major": 2,
       "version_minor": 0
      },
      "text/plain": [
       "Button(description='Run Financial Simulation', style=ButtonStyle())"
      ]
     },
     "metadata": {},
     "output_type": "display_data"
    },
    {
     "data": {
      "image/png": "[encoded data removed]",
      "text/plain": [
       "<Figure size 1200x800 with 1 Axes>"
      ]
     },
     "metadata": {},
     "output_type": "display_data"
    }
   ],
   "source": [
    "# Create sliders for financial rates using ipywidgets\n",
    "capitale_rate_slider = widgets.FloatSlider(value=0/60, min=-100, max=100, step=1, description='Capitale Rate:')\n",
    "revenu_rate_slider = widgets.FloatSlider(value=10/60, min=-100, max=100, step=1, description='Revenu Rate:')\n",
    "depense_rate_slider = widgets.FloatSlider(value=-30/60, min=-100, max=100, step=1, description='Dépense Rate:')\n",
    "\n",
    "# Create a button to run the financial simulation\n",
    "run_financial_button = widgets.Button(description='Run Financial Simulation')\n",
    "\n",
    "# Function to update the financial graphs\n",
    "def run_financial_simulation(b):\n",
    "    # Update rates with slider values\n",
    "    capitale_rate = capitale_rate_slider.value\n",
    "    revenu_rate = revenu_rate_slider.value\n",
    "    depense_rate = depense_rate_slider.value\n",
    "\n",
    "    # Initialize starting values for financial variables\n",
    "    capitale = [500]\n",
    "    revenu = [50]\n",
    "    depense = [0]\n",
    "\n",
    "    # Define a function to get the event amount for a given hour\n",
    "    def get_financial_event_amount(hour, event_dict):\n",
    "        return event_dict.get(hour, 0)  # Returns 0 if no event for the given hour\n",
    "\n",
    "    # Calculate financial values for each hour (with events integrated)\n",
    "    for i in range(1, len(hours)):\n",
    "        capitale.append(capitale[i-1] + capitale_rate + get_financial_event_amount(hours[i], capitale_events))\n",
    "        revenu.append(revenu[i-1] + revenu_rate + get_financial_event_amount(hours[i], revenu_events))\n",
    "        depense.append(depense[i-1] + depense_rate + get_financial_event_amount(hours[i], depense_events))\n",
    "\n",
    "    # Plot Financial variables\n",
    "    fig, ax = plt.subplots(figsize=(12, 8))\n",
    "    ax.set_title(\"Financial variables over time\")\n",
    "    ax.plot(hours, capitale, label=\"Capitale\")\n",
    "    ax.plot(hours, revenu, label=\"Revenu\")\n",
    "    ax.plot(hours, depense, label=\"Dépense\")\n",
    "    ax.set_xlabel(\"Hours\")\n",
    "    ax.set_ylabel(\"Value\")\n",
    "    ax.legend()\n",
    "    ax.grid(True)\n",
    "    \n",
    "    # Show the plots\n",
    "    clear_output()\n",
    "    display(capitale_rate_slider, revenu_rate_slider, depense_rate_slider, run_financial_button)\n",
    "    plt.tight_layout()\n",
    "    plt.show()\n",
    "    \n",
    "\n",
    "# Bind the button click event to the financial simulation function\n",
    "run_financial_button.on_click(run_financial_simulation)\n",
    "\n",
    "# Display the UI components for financial simulation\n",
    "display(capitale_rate_slider, revenu_rate_slider, depense_rate_slider, run_financial_button)\n"
   ]
  }
 ],
 "metadata": {
  "kernelspec": {
   "display_name": "Python 3",
   "language": "python",
   "name": "python3"
  },
  "language_info": {
   "codemirror_mode": {
    "name": "ipython",
    "version": 3
   },
   "file_extension": ".py",
   "mimetype": "text/x-python",
   "name": "python",
   "nbconvert_exporter": "python",
   "pygments_lexer": "ipython3",
   "version": "3.12.0"
  }
 },
 "nbformat": 4,
 "nbformat_minor": 2
}
