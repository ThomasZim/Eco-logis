{
 "cells": [
  {
   "cell_type": "code",
   "execution_count": null,
   "metadata": {},
   "outputs": [],
   "source": [
    "import numpy as np\n",
    "import matplotlib.pyplot as plt\n",
    "import ipywidgets as widgets\n",
    "from IPython.display import display, clear_output\n",
    "\n",
    "# Define the time range\n",
    "hours = np.arange(6*60, 23*60+1) / 60.0"
   ]
  },
  {
   "cell_type": "markdown",
   "metadata": {},
   "source": [
    "## Sunny day scenario"
   ]
  },
  {
   "cell_type": "code",
   "execution_count": null,
   "metadata": {},
   "outputs": [],
   "source": [
    "# Define events as dictionaries with hour as key and bonus/malus value as value\n",
    "# You can add widgets to control these values later if needed\n",
    "faim_events = {7: -50, 12: -100, 19: -80}\n",
    "soif_events = {7: 10, 19: 20}\n",
    "vessie_events = {9: -100, 14: -100, 20: -100}\n",
    "confort_events = {}\n",
    "hygiene_events = {21: 100}\n",
    "plaisir_events = {19.5: 20}"
   ]
  },
  {
   "cell_type": "markdown",
   "metadata": {},
   "source": [
    "## Base Case Scenario"
   ]
  },
  {
   "cell_type": "code",
   "execution_count": null,
   "metadata": {},
   "outputs": [],
   "source": [
    "%%script false --no-raise-error\n",
    "# Define events as dictionaries with hour as key and bonus/malus value as value\n",
    "# You can add widgets to control these values later if needed\n",
    "faim_events = {7: -50, 12: -100, 19: -80}\n",
    "soif_events = {7: 10, 19: 20}\n",
    "vessie_events = {9: -100, 14: -100, 20: -100}\n",
    "confort_events = {}\n",
    "hygiene_events = {21: 100}\n",
    "plaisir_events = {19.5: 20}"
   ]
  },
  {
   "cell_type": "markdown",
   "metadata": {},
   "source": [
    "## Bear Case Scenario"
   ]
  },
  {
   "cell_type": "code",
   "execution_count": null,
   "metadata": {},
   "outputs": [],
   "source": [
    "# Define events as dictionaries with hour as key and bonus/malus value as value\n",
    "# You can add widgets to control these values later if needed\n",
    "faim_events = {7: -50, 12: -100, 19: -80}\n",
    "soif_events = {7: 10, 19: 20}\n",
    "vessie_events = {9: -100, 14: -100, 20: -100}\n",
    "confort_events = {}\n",
    "hygiene_events = {21: 100}\n",
    "plaisir_events = {19.5: 20}"
   ]
  },
  {
   "cell_type": "code",
   "execution_count": null,
   "metadata": {},
   "outputs": [],
   "source": [
    "# Define the rates of change for each variable (modify these as needed)\n",
    "faim_rate_slider = widgets.FloatSlider(value=10, min=-25, max=25, step=0.01, description='Faim Rate:')\n",
    "soif_rate_slider = widgets.FloatSlider(value=-4, min=-25, max=25, step=0.01, description='Soif Rate:')\n",
    "vessie_rate_slider = widgets.FloatSlider(value=5, min=-25, max=25, step=0.01, description='Vessie Rate:')\n",
    "confort_rate_slider = widgets.FloatSlider(value=-3, min=-25, max=25, step=0.01, description='Confort Rate:')\n",
    "hygiene_rate_slider = widgets.FloatSlider(value=-2, min=-25, max=25, step=0.01, description='Hygiene Rate:')\n",
    "plaisir_rate_slider = widgets.FloatSlider(value=-1, min=-25, max=25, step=0.01, description='Plaisir Rate:')\n",
    "\n",
    "# Create a button to run the simulation\n",
    "run_button = widgets.Button(description='Run Simulation')\n",
    "\n",
    "def run_simulation(b):\n",
    "    # Update rates with slider values\n",
    "    faim_rate = faim_rate_slider.value/60\n",
    "    soif_rate = soif_rate_slider.value/60\n",
    "    vessie_rate = vessie_rate_slider.value/60\n",
    "    confort_rate = confort_rate_slider.value/60\n",
    "    hygiene_rate = hygiene_rate_slider.value/60\n",
    "    plaisir_rate = plaisir_rate_slider.value/60\n",
    "\n",
    "    # Initialize starting values\n",
    "    faim = [80]\n",
    "    soif = [80]\n",
    "    vessie = [50]\n",
    "    confort = [80]\n",
    "    hygiene = [50]\n",
    "    plaisir = [50]\n",
    "    well_being = []\n",
    "\n",
    "    # Define weights for each attribute\n",
    "    weights = {\n",
    "        \"Faim\": 0.20,\n",
    "        \"Soif\": 0.20,\n",
    "        \"Vessie\": 0.10,\n",
    "        \"Confort\": 0.20,\n",
    "        \"Hygiène\": 0.10,\n",
    "        \"Plaisir\": 0.20\n",
    "    }\n",
    "\n",
    "    # Define a function to get the event amount for a given hour\n",
    "    def get_event_amount(hour, event_dict):\n",
    "        return event_dict.get(hour, 0)  # Returns 0 if no event for the given hour\n",
    "\n",
    "    # Initial WellBeing calculation\n",
    "    well_being.append((100 - faim[0]) * weights[\"Faim\"] + \n",
    "                      (100 - soif[0]) * weights[\"Soif\"] + \n",
    "                      (100 - vessie[0]) * weights[\"Vessie\"] + \n",
    "                      confort[0] * weights[\"Confort\"] + \n",
    "                      hygiene[0] * weights[\"Hygiène\"] + \n",
    "                      plaisir[0] * weights[\"Plaisir\"])\n",
    "\n",
    "    # Calculate values for each hour (with events integrated)\n",
    "    for i in range(1, len(hours)):\n",
    "        faim.append(max(0, min(100, faim[i-1] + faim_rate + get_event_amount(hours[i], faim_events))))\n",
    "        soif.append(max(0, min(100, soif[i-1] + soif_rate + get_event_amount(hours[i], soif_events))))\n",
    "        vessie.append(max(0, min(100, vessie[i-1] + vessie_rate + get_event_amount(hours[i], vessie_events))))\n",
    "        confort.append(max(0, min(100, confort[i-1] + confort_rate + get_event_amount(hours[i], confort_events))))\n",
    "        hygiene.append(max(0, min(100, hygiene[i-1] + hygiene_rate + get_event_amount(hours[i], hygiene_events))))\n",
    "        plaisir.append(max(0, min(100, plaisir[i-1] + plaisir_rate + get_event_amount(hours[i], plaisir_events))))\n",
    "\n",
    "        # Update WellBeing for each hour\n",
    "        well_being.append((100 - faim[i]) * weights[\"Faim\"] + \n",
    "                          (100 - soif[i]) * weights[\"Soif\"] + \n",
    "                          (100 - vessie[i]) * weights[\"Vessie\"] + \n",
    "                          confort[i] * weights[\"Confort\"] + \n",
    "                          hygiene[i] * weights[\"Hygiène\"] + \n",
    "                          plaisir[i] * weights[\"Plaisir\"])\n",
    "        \n",
    "    # Setup the subplot layout: 1 row, 2 columns\n",
    "    fig, (ax1, ax2) = plt.subplots(1, 2, figsize=(24, 8))\n",
    "    \n",
    "    # Plot Personne variables on the first subplot\n",
    "    ax1.set_title(\"Personne variables over time\")\n",
    "    ax1.plot(hours, faim, label=\"Faim\")\n",
    "    ax1.plot(hours, soif, label=\"Soif\")\n",
    "    ax1.plot(hours, vessie, label=\"Vessie\")\n",
    "    ax1.plot(hours, confort, label=\"Confort\")\n",
    "    ax1.plot(hours, hygiene, label=\"Hygiène\")\n",
    "    ax1.plot(hours, plaisir, label=\"Plaisir\")\n",
    "    ax1.set_xlabel(\"Hours\")\n",
    "    ax1.set_ylabel(\"Value\")\n",
    "    ax1.legend()\n",
    "    ax1.grid(True)\n",
    "\n",
    "    # Plot WellBeing variable on the second subplot\n",
    "    ax2.set_title(\"WellBeing over time\")\n",
    "    ax2.plot(hours, well_being, label=\"WellBeing\", color='purple')\n",
    "    ax2.set_xlabel(\"Hours\")\n",
    "    ax2.set_ylabel(\"WellBeing Score\")\n",
    "    ax2.legend()\n",
    "    ax2.grid(True)\n",
    "    \n",
    "    # Show the plots\n",
    "    clear_output()\n",
    "    display(faim_rate_slider, soif_rate_slider, vessie_rate_slider, confort_rate_slider, hygiene_rate_slider, plaisir_rate_slider, run_button)\n",
    "    # Show the plots\n",
    "    plt.tight_layout()\n",
    "    plt.show()\n",
    "\n",
    "# Bind the button click event to the simulation function\n",
    "run_button.on_click(run_simulation)\n",
    "\n",
    "# Display the UI components\n",
    "display(faim_rate_slider, soif_rate_slider, vessie_rate_slider, confort_rate_slider, hygiene_rate_slider, plaisir_rate_slider, run_button)"
   ]
  }
 ],
 "metadata": {
  "kernelspec": {
   "display_name": "Python 3",
   "language": "python",
   "name": "python3"
  },
  "language_info": {
   "codemirror_mode": {
    "name": "ipython",
    "version": 3
   },
   "file_extension": ".py",
   "mimetype": "text/x-python",
   "name": "python",
   "nbconvert_exporter": "python",
   "pygments_lexer": "ipython3",
   "version": "3.12.0"
  }
 },
 "nbformat": 4,
 "nbformat_minor": 2
}
